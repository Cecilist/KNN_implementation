{
 "cells": [
  {
   "cell_type": "code",
   "execution_count": 1,
   "metadata": {},
   "outputs": [],
   "source": [
    "import csv\n",
    "import math"
   ]
  },
  {
   "cell_type": "code",
   "execution_count": 2,
   "metadata": {},
   "outputs": [],
   "source": [
    "# Data used here is a nomralized dataset derived from the first 100 rows, and the height and weight columns\n",
    "# of the Complete Pokemon Dataset found here https://www.kaggle.com/datasets/mariotormo/complete-pokemon-dataset-updated-090420\n",
    "# I Added a third column of 2 labels, either Small or Large\n",
    "with open(\"KNN_data.csv\") as f:\n",
    "    reader = csv.reader(f)\n",
    "    raw_data = list(reader)\n",
    "#Translate numerical data to floats, and labels to 0 if \"Small\", and 1 if \"Large\"    \n",
    "data = []\n",
    "for i in raw_data:\n",
    "    temp = []\n",
    "    for j in i:\n",
    "        if j == 'small':\n",
    "            temp.append(0)\n",
    "        elif j == 'large':\n",
    "            temp.append(1)\n",
    "        else:\n",
    "            temp.append(float(j))\n",
    "    data.append(temp)\n"
   ]
  },
  {
   "cell_type": "code",
   "execution_count": 3,
   "metadata": {},
   "outputs": [],
   "source": [
    "def setupTest(run):\n",
    "    #if run = 1, grab the first quater, the third quater of data, first 25 \"0's\", and first 25 \"1's\" \n",
    "    #else (e.g if run = 2) grab the 2nd quater and the 4th quater of data\n",
    "    test_data = []\n",
    "    if run == 1:\n",
    "        for i in range(len(data)//4):\n",
    "            test_data.append(data[i])\n",
    "        for i in range(((len(data))//2), (len(data))-(len(data))//4):\n",
    "            test_data.append(data[i])\n",
    "    else:\n",
    "        for i in range(((len(data))//4), ((len(data))//2)):\n",
    "            test_data.append(data[i])\n",
    "        for i in range((len(data))-(len(data))//4,((len(data)))):\n",
    "            test_data.append(data[i])\n",
    "    return test_data\n"
   ]
  },
  {
   "cell_type": "code",
   "execution_count": 4,
   "metadata": {},
   "outputs": [],
   "source": [
    "# print( range(len(data)) )"
   ]
  },
  {
   "cell_type": "code",
   "execution_count": 5,
   "metadata": {},
   "outputs": [],
   "source": [
    "# for i in range(((len(data))//2), (len(data))-(len(data))//4):\n",
    "#     print(i)"
   ]
  },
  {
   "cell_type": "code",
   "execution_count": 6,
   "metadata": {},
   "outputs": [],
   "source": [
    "labels = []\n",
    "for i in data:\n",
    "    labels.append(i[2])"
   ]
  },
  {
   "cell_type": "code",
   "execution_count": 7,
   "metadata": {},
   "outputs": [],
   "source": [
    "def distance_euclidean(p, q):\n",
    "    return math.sqrt((p[0]-q[0]) * (p[0]-q[0]) + (p[1]-q[1])*(p[1]-q[1]))"
   ]
  },
  {
   "cell_type": "code",
   "execution_count": null,
   "metadata": {},
   "outputs": [],
   "source": []
  },
  {
   "cell_type": "code",
   "execution_count": 8,
   "metadata": {},
   "outputs": [],
   "source": [
    "def getDistances(n):\n",
    "    distances=[]\n",
    "    for i in range(len(data)):\n",
    "        distances.append(distance_euclidean(test_data[n], data[i]))\n",
    "    return distances\n"
   ]
  },
  {
   "cell_type": "code",
   "execution_count": 9,
   "metadata": {},
   "outputs": [],
   "source": [
    "def getDistancesRanked(n):\n",
    "    distances_ranked = []\n",
    "    distances = getDistances(n)\n",
    "    for i in range(len(distances)):\n",
    "        distances_ranked.append(i)\n",
    "    \n",
    "    for i in range(len(distances)-1):\n",
    "        for j in range(i+1, len(distances)):\n",
    "            if distances[i] > distances[j]:\n",
    "                temp_distances = distances[i]\n",
    "                distances[i] = distances [j]\n",
    "                distances[j] = temp_distances\n",
    "                temp_index = distances_ranked[i]\n",
    "                distances_ranked[i] = distances_ranked[j]\n",
    "                distances_ranked[j] = temp_index\n",
    "    return distances_ranked"
   ]
  },
  {
   "cell_type": "code",
   "execution_count": 10,
   "metadata": {},
   "outputs": [],
   "source": [
    "def KNN(distances_ranked, labels, k):\n",
    "    vote0 = 0\n",
    "    vote1 = 0\n",
    "    for i in range(k):\n",
    "        if (labels[distances_ranked[i]] == 0):\n",
    "            vote0 = vote0 +1 \n",
    "        else: \n",
    "            vote1 = vote1 +1\n",
    "    if (vote0 > vote1):\n",
    "        return 0\n",
    "    else:\n",
    "        return 1"
   ]
  },
  {
   "cell_type": "code",
   "execution_count": 11,
   "metadata": {},
   "outputs": [],
   "source": [
    "def getAccuracy(label):\n",
    "    TP = 0\n",
    "    TN = 0\n",
    "    error = 0\n",
    "    \n",
    "    for i in range(len(test_data)):\n",
    "        prediction = KNN(getDistancesRanked(i), labels, k)\n",
    "        if (test_data[i][2] == prediction and test_data[i][2] == label):\n",
    "            TP +=1\n",
    "        elif (test_data[i][2] == prediction and test_data[i][2] != label):\n",
    "            TN +=1\n",
    "        else:\n",
    "            error+=1\n",
    "    return((TP+TN)/(TP+TN+error))*100"
   ]
  },
  {
   "cell_type": "code",
   "execution_count": null,
   "metadata": {},
   "outputs": [],
   "source": [
    "\n"
   ]
  },
  {
   "cell_type": "code",
   "execution_count": 12,
   "metadata": {},
   "outputs": [
    {
     "name": "stdout",
     "output_type": "stream",
     "text": [
      "Enter an odd number, 1 to 11: 11\n",
      "K = 11\n",
      "\n",
      "1st run, 1st half of each of each label\n",
      "Accuray for Small label is: 94.0 %\n",
      "Accuray for Large label is: 94.0 %\n",
      "Overall accuracy is: 94.0 %\n",
      "\n",
      "2nd run, 2st half of each of each label\n",
      "Accuray for Small label is: 100.0 %\n",
      "Accuray for Large label is: 100.0 %\n",
      "Overall accuracy is: 100.0 %\n"
     ]
    }
   ],
   "source": [
    "k = -1\n",
    "while k < 1 or k > 11: \n",
    "    try:\n",
    "        k = int(input(\"Enter an odd number, 1 to 11: \"))\n",
    "        if k % 2 == 0:\n",
    "            k = -1\n",
    "    except ValueError:\n",
    "        k = -1\n",
    "print(\"K =\", k)\n",
    "\n",
    "test_data = setupTest(1)\n",
    "accuracy1 = getAccuracy(0)\n",
    "accuracy2 = getAccuracy(1)\n",
    "print(\"\\n1st run, 1st half of each of each label\")\n",
    "print(\"Accuray for Small label is:\",accuracy1, \"%\")\n",
    "print(\"Accuray for Large label is:\", accuracy2, \"%\")\n",
    "print(\"Overall accuracy is:\", ((accuracy1+accuracy2)/2), \"%\")\n",
    "\n",
    "test_data = setupTest(2)\n",
    "accuracy1 = getAccuracy(0)\n",
    "accuracy2 = getAccuracy(1)\n",
    "print(\"\\n2nd run, 2st half of each of each label\")\n",
    "print(\"Accuray for Small label is:\",accuracy1, \"%\")\n",
    "print(\"Accuray for Large label is:\", accuracy2, \"%\")\n",
    "print(\"Overall accuracy is:\", ((accuracy1+accuracy2)/2), \"%\")"
   ]
  },
  {
   "cell_type": "code",
   "execution_count": null,
   "metadata": {},
   "outputs": [],
   "source": []
  },
  {
   "cell_type": "code",
   "execution_count": null,
   "metadata": {},
   "outputs": [],
   "source": []
  },
  {
   "cell_type": "code",
   "execution_count": null,
   "metadata": {},
   "outputs": [],
   "source": []
  }
 ],
 "metadata": {
  "kernelspec": {
   "display_name": "Python 3 (ipykernel)",
   "language": "python",
   "name": "python3"
  },
  "language_info": {
   "codemirror_mode": {
    "name": "ipython",
    "version": 3
   },
   "file_extension": ".py",
   "mimetype": "text/x-python",
   "name": "python",
   "nbconvert_exporter": "python",
   "pygments_lexer": "ipython3",
   "version": "3.9.7"
  }
 },
 "nbformat": 4,
 "nbformat_minor": 4
}
